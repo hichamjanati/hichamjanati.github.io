{
 "cells": [
  {
   "cell_type": "markdown",
   "metadata": {
    "collapsed": true
   },
   "source": [
    "<h1 align='center'> SMC - TD6 </h1>\n",
    "<h4 align='right'><i> author: Hicham Janati </i></h4>\n",
    "<h3> Importance Sampling  </h3>"
   ]
  },
  {
   "cell_type": "code",
   "execution_count": 1,
   "metadata": {
    "scrolled": true
   },
   "outputs": [],
   "source": [
    "import numpy as np\n",
    "%matplotlib inline\n",
    "from matplotlib import pyplot as plt"
   ]
  },
  {
   "cell_type": "markdown",
   "metadata": {},
   "source": [
    "Soit $X' = (X'_1, \\dots, X'_d)$ un vecteur gaussian. Soit A une région définie par $$ A = \\{ (x'_1, \\dots, x'_d) \\quad \\quad \\left|\\prod_{i=1}^d x'_i\\right| \\leq C \\}$$\n",
    "On suppose que X est la variable X' tronquée à la région A.\n",
    "On s'intéresse à l'estimation des espérances de type $E(\\phi(X))$. "
   ]
  },
  {
   "cell_type": "code",
   "execution_count": 2,
   "metadata": {
    "scrolled": true
   },
   "outputs": [],
   "source": [
    "def phi(x):\n",
    "    \"\"\"Returns log(1 + abs(x1 - x2))\"\"\"\n",
    "    n, d = x.shape\n",
    "    if d != 2:\n",
    "        raise ValueError(\"dimension must be 2\")\n",
    "    xx = x[:, 0] - x[:, 1]\n",
    "    y = np.log(1 + abs(xx))\n",
    "    return y"
   ]
  },
  {
   "cell_type": "markdown",
   "metadata": {},
   "source": [
    "Comme toujours, on commence par mettre en oeuvre un estimateur monte-carlo brutal: \n",
    "    $$ crude\\_mc = \\frac{1}{n}\\sum_{i=1}^n \\phi(x_i \\iota_A(x_i)) $$\n"
   ]
  },
  {
   "cell_type": "code",
   "execution_count": 3,
   "metadata": {
    "scrolled": true
   },
   "outputs": [
    {
     "data": {
      "text/plain": [
       "0.4127585576494693"
      ]
     },
     "execution_count": 3,
     "metadata": {},
     "output_type": "execute_result"
    }
   ],
   "source": [
    "def crude_mc(n, d=2, c=0.1, seed=None):\n",
    "    \"\"\"Crude Monte Carlo estimator.\n",
    "    \n",
    "    n: number of samples\n",
    "    d: number of features\n",
    "    c: truncation float\n",
    "    \"\"\"\n",
    "    \n",
    "    rnd = np.random.RandomState(seed)\n",
    "    X = rnd.randn(n, d)\n",
    "    prodx = abs(np.prod(X, axis=1))\n",
    "    X = X[prodx < c]\n",
    "    # On prend la moyenne\n",
    "    phibar = phi(X).mean()\n",
    "    \n",
    "    if np.isnan(phibar):\n",
    "        return 0.\n",
    "    return phibar\n",
    "crude_mc(100, d=2, c=0.01)"
   ]
  },
  {
   "cell_type": "markdown",
   "metadata": {},
   "source": [
    "Puis un algorithme plus couteux les x_i ont été générées par un algorithme de rejet. Cette fonction nous donne une valeur très précise pour comparer avec notre IS."
   ]
  },
  {
   "cell_type": "code",
   "execution_count": 4,
   "metadata": {
    "scrolled": true
   },
   "outputs": [],
   "source": [
    "def rejet_mc(n, d=2, c=1, seed=None):\n",
    "    \"\"\"Reject Monte Carlo estimator.\n",
    "    \n",
    "    n: number of samples\n",
    "    d: number of features\n",
    "    c: truncation float\n",
    "    \"\"\"\n",
    "    \n",
    "    rnd = np.random.RandomState(seed)\n",
    "    mean = np.zeros(d)\n",
    "    var = np.eye(d)\n",
    "    X = np.zeros((n, d))\n",
    "\n",
    "    i = 0\n",
    "    while(True):\n",
    "        x = rnd.randn(d)\n",
    "        \n",
    "        # Si on est dans A\n",
    "        if abs(np.prod(x)) <= c:\n",
    "            # On accepte x\n",
    "            X[i] = x\n",
    "            i += 1\n",
    "        if i == n - 1:\n",
    "            break\n",
    "    \n",
    "    # On prend la moyenne\n",
    "    phibar = phi(X).mean()\n",
    "    \n",
    "    return phibar"
   ]
  },
  {
   "cell_type": "code",
   "execution_count": 5,
   "metadata": {
    "scrolled": true
   },
   "outputs": [
    {
     "data": {
      "text/plain": [
       "0.3149724138776013"
      ]
     },
     "execution_count": 5,
     "metadata": {},
     "output_type": "execute_result"
    }
   ],
   "source": [
    "rj = rejet_mc(10000, d=2, c=0.01)\n",
    "rj"
   ]
  },
  {
   "cell_type": "markdown",
   "metadata": {},
   "source": [
    "En dimension $d \\geq 2$, simuler à partir de X devient compliqué d'autant plus que la région A est étroite car plusieurs échantillons sont rejetés. On se propose ici d'estimer l'espérance en utilisant l'importance sampling:\n",
    "étant donné une loi dite de proposition g, on note f la densité de la loi de X, et $E_h$ l'espérance pour un échantillon suivant une loi de densité $h$:\n",
    "\n",
    "$$ E_f(\\phi(X)) = \\int \\phi(X)f(x) = \\int \\phi(X)\\frac{f(x)}{g(x)}g(x) = E_g\\left(\\phi(X)\\frac{f(x)}{g(x)}\\right) $$\n",
    "\n",
    "On peut donc simuler un échantillon X à partir de la loi de g, à condition que g(x) = 0 implique f(x) = 0 (et donc l'intégrale sur le support de g a un sens).\n",
    "\n",
    "En notant $w_i = \\frac{f(x_i)}{g(x_i)}$, l'estimateur empirique IS:\n",
    "\n",
    "$$ IS = \\frac{1}{n} \\sum_{i=1}^n w_i \\phi(x_i) \\to p.s \\quad E_f(\\phi(X)) $$\n",
    "\n",
    "En plus, on peut remarquer que même si f et g sont connues à des constantes de normalisation près on peut prendre IS normalisé:\n",
    "$$ IS = \\frac{\\sum_{i=1}^n w_i \\phi(x_i)}{\\sum_{i=1} w_i} $$\n",
    "\n",
    "Pour évaluer votre importance sampling, pensez à calculer la taille d'échantillon effective qui correspond au nombre d'échantillons nécessaire pour obtenir la même variance IS avec un estimateur crude monte carlo, (et plus c'est grand mieux c'est)."
   ]
  },
  {
   "cell_type": "markdown",
   "metadata": {},
   "source": [
    "## Question 1)\n",
    "On commence par proposer comme loi de proposition g $\\sim N(\\mu, \\Sigma)$ où $(\\mu, \\Sigma)$ sont estimés à partir de l'échantillon X (tronqué à A).\n",
    "\n",
    "1. On simule une gaussienne Y et on obtient l'échantillon tronqué X\n",
    "2. On estime $(\\mu, \\Sigma)$\n",
    "3. On génére un échantillon Xg suivant $\\sim N(\\mu, \\Sigma)$\n",
    "4. On calcule les poids f(Xg) / g(Xg) "
   ]
  },
  {
   "cell_type": "code",
   "execution_count": 6,
   "metadata": {
    "scrolled": true
   },
   "outputs": [],
   "source": [
    "from scipy.stats import multivariate_normal\n",
    "\n",
    "def is_estimator_bad(n, d=2, c=0.1, seed=None):\n",
    "    \"\"\"IS estimator with gaussian proposal g\"\"\"\n",
    "    \n",
    "    rnd = np.random.RandomState(seed)\n",
    "    mean = np.zeros(d)\n",
    "    var = np.eye(d)\n",
    "    \n",
    "    # Echantillon X_a pour estimer mean_a et cov_a\n",
    "    X = rnd.multivariate_normal(mean, var, size=n)\n",
    "    prodx = np.prod(X, axis=1)\n",
    "    X_a = np.zeros_like(X)\n",
    "    mask = abs(prodx) <= c\n",
    "    X_a[mask] = X[mask]\n",
    "    \n",
    "    # Estimation de mean_a et cov_a\n",
    "    mean_a = X_a.mean(axis=0)\n",
    "    cov_a = np.cov(X_a.T)\n",
    "\n",
    "    # Echantillon suivant N(mean_a, cov_a)\n",
    "    Xg = rnd.multivariate_normal(mean_a, cov_a, size=n)\n",
    "    g = multivariate_normal.pdf(Xg, mean_a, cov_a)\n",
    "    \n",
    "    f = multivariate_normal.pdf(Xg, mean, var)\n",
    "    # On calcule la densite f non normalisee\n",
    "    prodx = abs(np.prod(Xg, axis=1))\n",
    "    f[prodx > c] = 0.\n",
    "    \n",
    "    weights = f / g\n",
    "    phi_g = phi(Xg)\n",
    "    \n",
    "    phibar = (phi_g * weights).sum() / weights.sum()\n",
    "    \n",
    "    effective_n = weights.sum() ** 2 / (weights ** 2).sum()\n",
    "    \n",
    "    return phibar, effective_n"
   ]
  },
  {
   "cell_type": "code",
   "execution_count": 7,
   "metadata": {
    "scrolled": true
   },
   "outputs": [
    {
     "data": {
      "text/plain": [
       "(0.33945997967720565, 828.8689079749682)"
      ]
     },
     "execution_count": 7,
     "metadata": {},
     "output_type": "execute_result"
    }
   ],
   "source": [
    "is_estimator_bad(10000, d=2, c=0.1)"
   ]
  },
  {
   "cell_type": "markdown",
   "metadata": {},
   "source": [
    "On a obtenu comme effective sample size 120, cela veut dire que 1000 échantillons avec cet IS \"correspond\" à un crude-monte carlo avec seulement 120 échantillons ..."
   ]
  },
  {
   "cell_type": "markdown",
   "metadata": {},
   "source": [
    "Cet estimateur est a priori mauvais pour trois raisons:\n",
    "- La variance estimée sera très bruitée car l'échantillon tronqué est de petite taille lorsque c est assez petit ...\n",
    "- Pour c très petit, les variances suivant x et y seront très petites car très peu de points sont proches des axes (voir la région A ci-dessous) qui seront donc très sous-échantilonnés.\n",
    "- Prendre une gaussienne comme loi de proposition risque de conduire à un estimateur avec une variance infinie (f^2 / g peut ne pas être intégrable)"
   ]
  },
  {
   "cell_type": "markdown",
   "metadata": {},
   "source": [
    "## Question 2)\n",
    "\n",
    "On change la loi de proposition g en prenant t-distribution (qui est plus épaisse aux bords qu'une gaussienne):"
   ]
  },
  {
   "cell_type": "code",
   "execution_count": 8,
   "metadata": {
    "scrolled": true
   },
   "outputs": [],
   "source": [
    "def is_estimator_good(n, d=2, c=0.1, phi=phi, df=2, seed=None):\n",
    "    \"\"\"IS estimator with t distribution\"\"\"\n",
    "    \n",
    "    rnd = np.random.RandomState(seed)\n",
    "    \n",
    "    # On genere une t de taille (n, d)\n",
    "    Xg = rnd.standard_t(df, size=(n, d))\n",
    "    # On calcule la densite de la loi t non normalisee\n",
    "    g = (1 + (Xg ** 2).sum(axis=1) / df) ** (- (2 + df) / 2)\n",
    "    # et celle de f (gaussienne tronquee)\n",
    "    f = np.exp(- 0.5 * (Xg ** 2).sum(axis=1))\n",
    "    prodx = abs(np.prod(Xg, axis=1))\n",
    "    f[prodx > c] = 0.\n",
    "    weights = f / g\n",
    "    weights = np.nan_to_num(weights)\n",
    "\n",
    "    phi_g = phi(Xg)\n",
    "    phibar = (phi_g * weights).sum() / weights.sum()\n",
    "    effective_n = weights.sum() ** 2 / (weights ** 2).sum()\n",
    "    return np.nan_to_num(phibar), effective_n"
   ]
  },
  {
   "cell_type": "code",
   "execution_count": 9,
   "metadata": {
    "scrolled": true
   },
   "outputs": [
    {
     "data": {
      "text/plain": [
       "(0.292761808281981, 2.9990515427770603)"
      ]
     },
     "execution_count": 9,
     "metadata": {},
     "output_type": "execute_result"
    }
   ],
   "source": [
    "is_estimator_good(100, d=2, c=0.01, df=3)"
   ]
  },
  {
   "cell_type": "code",
   "execution_count": 11,
   "metadata": {
    "scrolled": true
   },
   "outputs": [
    {
     "name": "stdout",
     "output_type": "stream",
     "text": [
      "Variance Crude MC: 0.0018656257227331907\n",
      "Variance IS: 0.00204503420092666\n"
     ]
    }
   ],
   "source": [
    "n, d, c = 1000, 2, 0.01\n",
    "df = 2\n",
    "N = 50\n",
    "mc = np.array([crude_mc(n, d=d, c=c) for _ in range(N)])\n",
    "is_1 = np.array([is_estimator_bad(n, d=d, c=c) for _ in range(N)])\n",
    "is_2 = np.array([is_estimator_good(n, d=d, c=c, df=df) for _ in range(N)])\n",
    "\n",
    "data = np.empty((N, 3))\n",
    "data[:, 0] = mc\n",
    "data[:, 1] = is_1[:, 0]\n",
    "data[:, 2] = is_2[:, 0]\n",
    "\n",
    "var_cr = mc.var()\n",
    "var_is = is_2[:, 0].var()\n",
    "print(\"Variance Crude MC:\", var_cr)\n",
    "print(\"Variance IS:\", var_is)"
   ]
  },
  {
   "cell_type": "code",
   "execution_count": 12,
   "metadata": {
    "scrolled": true
   },
   "outputs": [
    {
     "data": {
      "image/png": "[encoded data removed]",
      "text/plain": [
       "<matplotlib.figure.Figure at 0x110ce07b8>"
      ]
     },
     "metadata": {},
     "output_type": "display_data"
    }
   ],
   "source": [
    "plt.figure()\n",
    "plt.boxplot(data, labels=[\"Crude MC\", \"IS gaussian\", \"IS t\"])\n",
    "plt.show()"
   ]
  },
  {
   "cell_type": "markdown",
   "metadata": {},
   "source": [
    "On veut maintenant chercher le nombre de degrés de libertés optimal pour notre loi de proposition t. On calcule donc l'effective sample size pour une grille de paramètres."
   ]
  },
  {
   "cell_type": "code",
   "execution_count": 15,
   "metadata": {
    "scrolled": true
   },
   "outputs": [],
   "source": [
    "n, d, c = 10000, 2, 0.1\n",
    "dfs = np.arange(1, 10, 1)\n",
    "eff_n = np.zeros_like(dfs)\n",
    "n_repeats = 50\n",
    "for i, df in enumerate(dfs):\n",
    "    mean_e = 0.\n",
    "    for _ in range(n_repeats):\n",
    "        _, e = is_estimator_good(n, d=d, c=c, df=df)\n",
    "        mean_e += e / n_repeats\n",
    "    eff_n[i] = mean_e"
   ]
  },
  {
   "cell_type": "code",
   "execution_count": 16,
   "metadata": {
    "scrolled": true
   },
   "outputs": [
    {
     "data": {
      "image/png": "[encoded data removed]",
      "text/plain": [
       "<matplotlib.figure.Figure at 0x1112c9dd8>"
      ]
     },
     "metadata": {},
     "output_type": "display_data"
    }
   ],
   "source": [
    "plt.figure()\n",
    "plt.plot(dfs, eff_n, label=\"T-student proposal\")\n",
    "plt.plot(dfs, len(dfs) * [n], label=\"Real n_samples\")\n",
    "plt.legend()\n",
    "plt.show()"
   ]
  },
  {
   "cell_type": "markdown",
   "metadata": {},
   "source": [
    "À partir de 5, l'effective sample size ne varie plus beaucoup ...\n"
   ]
  },
  {
   "cell_type": "code",
   "execution_count": null,
   "metadata": {
    "scrolled": true
   },
   "outputs": [],
   "source": []
  }
 ],
 "metadata": {
  "anaconda-cloud": {},
  "kernelspec": {
   "display_name": "Python 3",
   "language": "python",
   "name": "python3"
  },
  "language_info": {
   "codemirror_mode": {
    "name": "ipython",
    "version": 3
   },
   "file_extension": ".py",
   "mimetype": "text/x-python",
   "name": "python",
   "nbconvert_exporter": "python",
   "pygments_lexer": "ipython3",
   "version": "3.6.4"
  }
 },
 "nbformat": 4,
 "nbformat_minor": 1
}
