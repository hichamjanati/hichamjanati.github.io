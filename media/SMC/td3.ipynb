{
 "cells": [
  {
   "cell_type": "markdown",
   "metadata": {
    "collapsed": true
   },
   "source": [
    "<h1 align='center'> SMC - TD3 </h1>\n",
    "<h4 align='right'><i> author: Hicham Janati </i></h4>\n",
    "<h3> Box-Muller et Box-Muller Amélioré  </h3>"
   ]
  },
  {
   "cell_type": "code",
   "execution_count": 50,
   "metadata": {},
   "outputs": [],
   "source": [
    "import numpy as np\n",
    "%matplotlib inline\n",
    "from matplotlib import pyplot as plt"
   ]
  },
  {
   "cell_type": "markdown",
   "metadata": {},
   "source": [
    "Soit $(U, V)$ uniformément distribués sur $[0, 1]$ montrons que $X, Y = g(U, V)$ suit $\\mathcal{N}(0, I_2)$ avec $g$:\n",
    " On a:\n",
    "$$ \\begin{pmatrix} X \\\\ Y \\end{pmatrix} \n",
    "= g \\left( \\begin{pmatrix} U \\\\ V \\end{pmatrix} \\right)\n",
    "= \\begin{pmatrix} g_1(U,V) \\\\ g_2(U,V) \\end{pmatrix}\n",
    "$$\n",
    "Où\n",
    "$$\\begin{array}{ccccc}\n",
    "g_1 & : & ]0,1]^2 & \\to & \\mathbb{R} \\\\\n",
    " & & (x,y) & \\mapsto & \\sqrt{-2 \\ln(x)} \\cos(2\\pi y) \\\\\n",
    "\\end{array} \n",
    "$$\n",
    "et\n",
    "$$\\begin{array}{ccccc}\n",
    "g_2 & : & ]0,1]^2 & \\to & \\mathbb{R} \\\\\n",
    " & & (x,y) & \\mapsto & \\sqrt{-2 \\ln(x)} \\sin(2\\pi y) \\\\\n",
    "\\end{array} \n",
    "$$\n",
    "On peut facilement montrer que g est bijective (prendre la somme des carrés pour éliminer $cos^2 + sin^2$), de Classe $C^1$ sur son domaine de définition et son Jacbien est non nul, donc:\n",
    "$$ f_{X,Y}(X,Y) = \\left| \\frac{1}{\\text{Jac}(g)(X,Y)} \\right| \n",
    "\\iota_{g\\left(]0,1]^2\\right)}(X,Y)\n",
    "$$\n",
    "En effet, le jacobien de $g$: :\n",
    "\\begin{align*}\n",
    "\\text{Jac}(g)(U,V)\n",
    "&= \\begin{vmatrix}\n",
    "\\frac{\\partial g_1}{\\partial U}(U,V) & \\frac{\\partial g_1}{\\partial V}(U,V) \\\\\n",
    "\\frac{\\partial g_2}{\\partial U}(U,V) & \\frac{\\partial g_2}{\\partial V}(U,V)\n",
    "\\end{vmatrix}\n",
    "\\\\\n",
    "&= \\begin{vmatrix}\n",
    "\\frac{-\\cos(2\\pi V)}{U \\sqrt{-2\\ln(U)}} &  \\sqrt{-2\\ln(U)}(-2\\pi\\sin(2\\pi V)) \\\\\n",
    "\\frac{-\\sin(2\\pi V)}{U \\sqrt{-2\\ln(U)}} & \\sqrt{-2\\ln(U)}(2\\pi\\cos(2\\pi V))\n",
    "\\end{vmatrix}\n",
    "\\\\\n",
    "&= \\left| -\\frac{2\\pi}{U}\\cos^2(2\\pi V) -\\frac{2\\pi}{U}\\sin^2(2\\pi V) \\right| \\\\\n",
    "\\text{Jac}(g)(U,V)\n",
    "&= \\frac{2\\pi}{U} \\neq 0\n",
    "\\end{align*}\n",
    "\n",
    "Et puisque $X^2 + Y^2 = -2\\ln(U)$, on a $U = \\exp\\left(-\\frac{X^2+Y^2}{2}\\right)$. Ainsi :\n",
    "$$ \\text{Jac}(g)(X,Y) = \\text{Jac}(g)(g^{-1}(U,V)) = \n",
    "\\frac{2\\pi}{\\exp\\left(-\\frac{X^2+Y^2}{2}\\right)}\n",
    "$$\n",
    "\n",
    "La densité de $(X,Y)$ est :\n",
    "$$ f_{X,Y}(X,Y) = \\frac{1}{2\\pi} \\exp\\left(-\\frac{X^2+Y^2}{2}\\right)\n",
    "$$\n",
    "\n",
    "donc $ (X,Y) \\sim \\mathcal{N}\\left( \\begin{pmatrix} 0 \\\\ 0\\end{pmatrix},\n",
    "\\begin{pmatrix} 1 & 0 \\\\ 0 & 1 \\end{pmatrix} \\right)$: $ X \\perp Y$ et $ X,Y \\sim \\mathcal{N}(0,1)$.\n",
    "\n",
    "Par ailleurs les coordonnées polaires de (X, Y) sont donnés par:\n",
    "$R = \\sqrt(X^2 + Y^2) = \\sqrt(-2\\ln(U))$\n",
    "$ \\theta \n",
    "= \\arctan \\frac{Y}{X}\n",
    "= \\arctan \\frac{\\sin(2\\pi V)}{\\cos(2\\pi V)}\n",
    "= \\arctan \\left(\\tan(2\\pi V)\\right)\n",
    "= 2\\pi V\n",
    "\\sim \\mathcal{U}_{]0,2\\pi]}\n",
    "$\n",
    "Ce qui revient à simuler des var uniformes."
   ]
  },
  {
   "cell_type": "code",
   "execution_count": 51,
   "metadata": {},
   "outputs": [],
   "source": [
    "def box_muller(n, seed=None):\n",
    "    \"\"\"2D-Gaussian generator using box-muller algorithm.\n",
    "    n: int.\n",
    "        number of samples.\n",
    "    seed: int (optional).\n",
    "        random seed initialization.\n",
    "    \"\"\"\n",
    "    # init generator\n",
    "    rnd = np.random.RandomState(seed)\n",
    "    \n",
    "    # generate U and V\n",
    "    # these two lines can be replaced by\n",
    "    # U, V = rnd.rand(2, n)\n",
    "    U = rnd.rand(n)\n",
    "    V = rnd.rand(n)\n",
    "    R = np.sqrt(- 2 * np.log(U))\n",
    "    X, Y = R * np.cos(2 * np.pi * V), R * np.sin(2 * np.pi * V)\n",
    "    \n",
    "    return X, Y"
   ]
  },
  {
   "cell_type": "markdown",
   "metadata": {},
   "source": [
    "La version améliorée consiste à générer d'abord le rayon R comme la distance à l'origine de (u, v) $\\sim U(-1, 1)$ et en déduire les coordonnées polaires. \n",
    "\n",
    "1. Montrez qu'avec la condition de rejet, $S = U^2 + V^2$ suit une uniforme 0-1.\n",
    "2. Montrez que S est indépendante de U / V. Puis que X est independante de Y.\n",
    "3. En utilisant les coordonnées polaires, montrez que X, Y suit $N(0, I_2)$"
   ]
  },
  {
   "cell_type": "code",
   "execution_count": 52,
   "metadata": {},
   "outputs": [],
   "source": [
    "def box_muller_ameliore(n, seed=None):\n",
    "    \"\"\"2D-Gaussian generator using a cosine-free box-muller algorithm.\n",
    "    n: int.\n",
    "        number of samples.\n",
    "    seed: int (optional).\n",
    "        random seed initialization.\n",
    "    \"\"\"\n",
    "    # init generator\n",
    "    rnd = np.random.RandomState(seed)\n",
    "    \n",
    "    # generate U and V\n",
    "    U, V = np.zeros((2, n))\n",
    "    for i in range(n):\n",
    "        while(True):\n",
    "            u = 2 * rnd.rand() - 1\n",
    "            v = 2 * rnd.rand() - 1\n",
    "            # if within l2 ball\n",
    "            if u ** 2 + v ** 2 <= 1.:\n",
    "                U[i], V[i] = u, v\n",
    "                break\n",
    "    S = U ** 2 + V ** 2\n",
    "    R = np.sqrt(- 2 * np.log(S) / S)\n",
    "    X, Y = R * U, R * V\n",
    "    \n",
    "    return X, Y"
   ]
  },
  {
   "cell_type": "code",
   "execution_count": 53,
   "metadata": {},
   "outputs": [],
   "source": [
    "X0, Y0 = box_muller(10000, seed=0)"
   ]
  },
  {
   "cell_type": "code",
   "execution_count": 54,
   "metadata": {},
   "outputs": [],
   "source": [
    "X, Y = box_muller_ameliore(10000, seed=0)"
   ]
  },
  {
   "cell_type": "markdown",
   "metadata": {},
   "source": [
    "Let's visualize histograms:"
   ]
  },
  {
   "cell_type": "code",
   "execution_count": 55,
   "metadata": {},
   "outputs": [
    {
     "data": {
      "image/png": "[encoded data removed]",
      "text/plain": [
       "<matplotlib.figure.Figure at 0x1a1ca8a518>"
      ]
     },
     "metadata": {},
     "output_type": "display_data"
    }
   ],
   "source": [
    "grid = np.linspace(-5, 5, 1000)\n",
    "densite = 1 / np.sqrt(2 * np.pi) * np.exp(- grid ** 2 / 2)\n",
    "f, axes = plt.subplots(2, 2, figsize=(10, 5))\n",
    "for ax, data, label in zip(axes.flatten(), (X, Y, X0, Y0), [r\"$X$\", r\"$Y$\", r\"$X$\", r\"$Y$\"]):\n",
    "    ax.hist(data, bins=100, normed=True)\n",
    "    ax.plot(grid, densite)\n",
    "    ax.set_title(label)\n",
    "plt.show()"
   ]
  },
  {
   "cell_type": "markdown",
   "metadata": {},
   "source": [
    "How about the estimated covariance matrix ?"
   ]
  },
  {
   "cell_type": "code",
   "execution_count": 56,
   "metadata": {},
   "outputs": [
    {
     "data": {
      "text/plain": [
       "array([[0.97200076, 0.00487768],\n",
       "       [0.00487768, 0.98996234]])"
      ]
     },
     "execution_count": 56,
     "metadata": {},
     "output_type": "execute_result"
    }
   ],
   "source": [
    "np.cov(X, Y)"
   ]
  },
  {
   "cell_type": "code",
   "execution_count": 57,
   "metadata": {},
   "outputs": [
    {
     "data": {
      "text/plain": [
       "array([[ 1.03410058, -0.00857912],\n",
       "       [-0.00857912,  1.00262533]])"
      ]
     },
     "execution_count": 57,
     "metadata": {},
     "output_type": "execute_result"
    }
   ],
   "source": [
    "np.cov(X0, Y0)"
   ]
  },
  {
   "cell_type": "markdown",
   "metadata": {},
   "source": [
    "Now compare both box muller methods: "
   ]
  },
  {
   "cell_type": "code",
   "execution_count": 58,
   "metadata": {},
   "outputs": [
    {
     "name": "stdout",
     "output_type": "stream",
     "text": [
      "615 µs ± 6.47 µs per loop (mean ± std. dev. of 7 runs, 1000 loops each)\n"
     ]
    }
   ],
   "source": [
    "%timeit box_muller(10000, 0)"
   ]
  },
  {
   "cell_type": "code",
   "execution_count": 59,
   "metadata": {},
   "outputs": [
    {
     "name": "stdout",
     "output_type": "stream",
     "text": [
      "15.3 ms ± 467 µs per loop (mean ± std. dev. of 7 runs, 100 loops each)\n"
     ]
    }
   ],
   "source": [
    "%timeit box_muller_ameliore(10000, 0)"
   ]
  },
  {
   "cell_type": "markdown",
   "metadata": {},
   "source": [
    "Acceptance rate is $\\pi / 4$:"
   ]
  },
  {
   "cell_type": "code",
   "execution_count": 60,
   "metadata": {},
   "outputs": [
    {
     "data": {
      "text/plain": [
       "0.7853981633974483"
      ]
     },
     "execution_count": 60,
     "metadata": {},
     "output_type": "execute_result"
    }
   ],
   "source": [
    "np.pi / 4"
   ]
  },
  {
   "cell_type": "code",
   "execution_count": null,
   "metadata": {},
   "outputs": [],
   "source": []
  }
 ],
 "metadata": {
  "anaconda-cloud": {},
  "kernelspec": {
   "display_name": "Python 3",
   "language": "python",
   "name": "python3"
  },
  "language_info": {
   "codemirror_mode": {
    "name": "ipython",
    "version": 3
   },
   "file_extension": ".py",
   "mimetype": "text/x-python",
   "name": "python",
   "nbconvert_exporter": "python",
   "pygments_lexer": "ipython3",
   "version": "3.6.4"
  }
 },
 "nbformat": 4,
 "nbformat_minor": 1
}
