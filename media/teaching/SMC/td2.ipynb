{
 "cells": [
  {
   "cell_type": "markdown",
   "metadata": {
    "collapsed": true
   },
   "source": [
    "<h1 align='center'> SMC - TD2 </h1>\n",
    "<h4 align='right'><i> author: Hicham Janati </i></h4>\n",
    "<h3> Algorithme de rejet </h3>"
   ]
  },
  {
   "cell_type": "code",
   "execution_count": 65,
   "metadata": {
    "collapsed": true
   },
   "outputs": [],
   "source": [
    "import numpy as np\n",
    "%matplotlib inline\n",
    "from matplotlib import pyplot as plt"
   ]
  },
  {
   "cell_type": "markdown",
   "metadata": {},
   "source": [
    "## 1 - Laplace Generator with inverse sampling\n",
    "Soit $U \\sim \\mathcal U([0, 1])$ et $X$ une var suivant une loi $\\mu$, de fonction de répartition $F$ admettant une réciproque $F^{-1}$. Le <a href=https://en.wikipedia.org/wiki/Inverse_transform_sampling> théorème d'inversion </a> assure que la var $F^{-1}(U)$ suit la loi $\\mu$. Ainsi, pour générer un échantillon $X_1, \\dots, X_n$ suivant la loi de Laplace, il suffit d'inverser sa fonction de répartition et l'appliquer à U.\n",
    "\n",
    "Pour une loi de la place on a:\n",
    "\n",
    "$$F(t) = \\left\\{\n",
    "                \\begin{array}{l}\n",
    "                  \\frac{1}{2} e^{x} \\text{ si }x \\leq 0 \\\\\n",
    "                  1 - \\frac{1}{2}e^{-x} \\text{ si } x \\geq 0 \\\\\n",
    "                \\end{array}\n",
    "         \\right.\n",
    "$$\n",
    "\n",
    "Et donc:\n",
    "\n",
    "$$\\forall u \\in [0, 1] \\qquad F^{-1}(u) = \\left\\{\n",
    "                \\begin{array}{l}\n",
    "                  \\log(2u) \\text{ si } u \\leq \\frac{1}{2} \\\\\n",
    "                  \\log(2 - 2u) \\text{ si } u \\geq \\frac{1}{2} \\\\\n",
    "                \\end{array}\n",
    "         \\right.\n",
    "$$\n"
   ]
  },
  {
   "cell_type": "code",
   "execution_count": 66,
   "metadata": {
    "collapsed": true
   },
   "outputs": [],
   "source": [
    "# with lists \n",
    "def laplace_list(n, seed=None):\n",
    "    \"\"\"Laplace generator.\n",
    "    n: int.\n",
    "        number of samples.\n",
    "    seed: int (optional).\n",
    "        random seed initialization.\n",
    "    \"\"\"\n",
    "    # init generator\n",
    "    rnd = np.random.RandomState(seed)\n",
    "    L = []\n",
    "    for i in range(n):\n",
    "        u = rnd.rand()\n",
    "        if u <= 0.5:\n",
    "            L.append(np.log(2 * u))\n",
    "        else:\n",
    "            L.append(- np.log(2 - 2 * u))\n",
    "    return L"
   ]
  },
  {
   "cell_type": "code",
   "execution_count": 67,
   "metadata": {
    "collapsed": false
   },
   "outputs": [
    {
     "name": "stdout",
     "output_type": "stream",
     "text": [
      "100 loops, best of 3: 18.6 ms per loop\n"
     ]
    }
   ],
   "source": [
    "%%timeit\n",
    "x = laplace_list(10000, seed=0)"
   ]
  },
  {
   "cell_type": "markdown",
   "metadata": {},
   "source": [
    "C'est cool mais avec Numpy c'est plus efficace (et plus beau):"
   ]
  },
  {
   "cell_type": "code",
   "execution_count": 68,
   "metadata": {
    "collapsed": true
   },
   "outputs": [],
   "source": [
    "def laplace(n, seed=None):\n",
    "    \"\"\"Laplace generator.\n",
    "    n: int.\n",
    "        number of samples.\n",
    "    seed: int (optional).\n",
    "        random seed initialization.\n",
    "    \"\"\"\n",
    "    rnd = np.random.RandomState(seed)\n",
    "    U = rnd.rand(n) # generate random sample U of size n\n",
    "    mask = U < 0.5 # boolean array \n",
    "    L1 = mask * np.log(2 * U) # when u < 0.5 (not concerned entries are zero, the others are 0)\n",
    "    L2 = - (1 - mask) * np.log(2 - 2 * U) # when u > 0.5\n",
    "    L = L1 + L2\n",
    "    return L"
   ]
  },
  {
   "cell_type": "code",
   "execution_count": 69,
   "metadata": {
    "collapsed": false
   },
   "outputs": [
    {
     "name": "stdout",
     "output_type": "stream",
     "text": [
      "The slowest run took 36.57 times longer than the fastest. This could mean that an intermediate result is being cached.\n",
      "1000 loops, best of 3: 520 µs per loop\n"
     ]
    }
   ],
   "source": [
    "%%timeit\n",
    "n = 10000\n",
    "L = laplace(n, 0)"
   ]
  },
  {
   "cell_type": "markdown",
   "metadata": {},
   "source": [
    "On plot la vraie densité et la compare avec un histogramme de L:"
   ]
  },
  {
   "cell_type": "code",
   "execution_count": 70,
   "metadata": {
    "collapsed": false
   },
   "outputs": [
    {
     "data": {
      "image/png": "[encoded data removed]",
      "text/plain": [
       "<matplotlib.figure.Figure at 0x107c83eb8>"
      ]
     },
     "metadata": {},
     "output_type": "display_data"
    }
   ],
   "source": [
    "x = np.linspace(-10, 10, n) # vector of n numbers between -10 and 10\n",
    "densite = 0.5 * np.exp(- abs(x))\n",
    "plt.figure()\n",
    "plt.plot(x, densite, color='indianred', linewidth=3, label=r\"$L(0, 1)$\")\n",
    "plt.hist(L, bins=100, color='cornflowerblue', label='Histogramme', normed=True)\n",
    "plt.legend()\n",
    "plt.show()"
   ]
  },
  {
   "cell_type": "markdown",
   "metadata": {
    "collapsed": true
   },
   "source": [
    "## 2 - Laplace Generator with reject algorithm\n",
    "En se basant sur la loi de Laplace, on génère un échantillon suivant la loi Normale centrée réduite. On cherche donc à majorer pour tout $x$ la densité gaussienne: $$ f(x) = \\frac{1}{2\\pi} \\exp(-x^2 / 2) $$ par une constante M fois la densité de Laplace: $$ M g(x) = M \\frac{1}{2} \\exp{- |x|} $$. \n",
    "\n",
    "Pour générer N observations:\n",
    "- List = []\n",
    "- for i in [1, n]:\n",
    "        1. x sampled from g\n",
    "        2. u sampled from U[0, 1]\n",
    "        3. if u < f(x) / Mg(x):\n",
    "                add x to List\n",
    "           else: \n",
    "               repeat 1., 2., 3.\n",
    "        \n",
    "Comme la probabilité d'acceptation est donnée par 1 / M (<a href=http://www.columbia.edu/~ks20/4703-Sigman/4703-07-Notes-ARM.pdf> Proof here </a>), on cherche à ce que M soit la plus petite valeure possible:\n",
    "On prend donc:\n",
    "$$ M = \\sup_x f(x)/g(x) = \\sqrt{\\frac{2}{\\pi}}\\sup_x \\exp(-x^2 / 2 + |x|) = \\sqrt{\\frac{2 e}{\\pi}} $$"
   ]
  },
  {
   "cell_type": "markdown",
   "metadata": {},
   "source": [
    "Créons deux fonctions f et g (les densités) en utilisant l'expression `lambda`:"
   ]
  },
  {
   "cell_type": "code",
   "execution_count": 71,
   "metadata": {
    "collapsed": true
   },
   "outputs": [],
   "source": [
    "f = lambda x : np.exp(- x ** 2 / 2) / np.sqrt(2 * np.pi)\n",
    "g = lambda x : 0.5 * np.exp(- abs(x))"
   ]
  },
  {
   "cell_type": "code",
   "execution_count": 72,
   "metadata": {
    "collapsed": false
   },
   "outputs": [
    {
     "data": {
      "image/png": "[encoded data removed]",
      "text/plain": [
       "<matplotlib.figure.Figure at 0x10644ea58>"
      ]
     },
     "metadata": {},
     "output_type": "display_data"
    }
   ],
   "source": [
    "n = 1000\n",
    "M = np.sqrt((2 * np.e) / np.pi )\n",
    "x = np.linspace(-10, 10, n)\n",
    "plt.figure(figsize=(8, 6))\n",
    "plt.plot(x, f(x), color='indianred', lw=3, label=r\"$f(x)$\")\n",
    "plt.plot(x, M * g(x), color='cornflowerblue', lw=2, label=r\"$Mg(x)$\")\n",
    "plt.legend()\n",
    "plt.show()"
   ]
  },
  {
   "cell_type": "code",
   "execution_count": 73,
   "metadata": {
    "collapsed": true
   },
   "outputs": [],
   "source": [
    "def gaussian(n, f=f, g=g, M=M, seed=None):\n",
    "    \"\"\"Gaussian generator with reject algorithm.\n",
    "    n: int.\n",
    "        number of samples.\n",
    "    f: callable.\n",
    "        density we want to sample from.\n",
    "    g: callable.\n",
    "        density we use as surrogate.\n",
    "    M: float > 1.\n",
    "        bound constant f < M g.\n",
    "    seed: int (optional).\n",
    "        random seed initialization.\n",
    "    \"\"\"\n",
    "    rnd = np.random.RandomState(seed)\n",
    "    Y = np.zeros(n) # liste que l'on remplit avec des x ~ N(0, 1)\n",
    "    j = 0 # compteur du nombre total d'essais\n",
    "    for i in range(n):\n",
    "        while(True):\n",
    "            j += 1\n",
    "            x = rnd.laplace()\n",
    "            u = rnd.rand()\n",
    "            if M * g(x) * u <= f(x):\n",
    "                break\n",
    "        Y[i] = x\n",
    "    return Y, j"
   ]
  },
  {
   "cell_type": "code",
   "execution_count": 74,
   "metadata": {
    "collapsed": true
   },
   "outputs": [],
   "source": [
    "N = 100000\n",
    "Y, j = gaussian(N, f, g, M)"
   ]
  },
  {
   "cell_type": "markdown",
   "metadata": {},
   "source": [
    "On plot la vraie densité et la compare avec un histogramme de X:"
   ]
  },
  {
   "cell_type": "code",
   "execution_count": 75,
   "metadata": {
    "collapsed": false
   },
   "outputs": [
    {
     "data": {
      "image/png": "[encoded data removed]",
      "text/plain": [
       "<matplotlib.figure.Figure at 0x107351fd0>"
      ]
     },
     "metadata": {},
     "output_type": "display_data"
    }
   ],
   "source": [
    "x = np.linspace(-10, 10, n) # vector of n numbers between -10 and 10\n",
    "plt.figure()\n",
    "plt.plot(x, f(x), color='indianred', linewidth=3, label=r\"$N(0, 1)$\")\n",
    "plt.hist(Y, bins=100, color='cornflowerblue', label='Histogramme Y', normed=True)\n",
    "plt.legend()\n",
    "plt.show()"
   ]
  },
  {
   "cell_type": "markdown",
   "metadata": {},
   "source": [
    "### 3 - Taux d'acceptation"
   ]
  },
  {
   "cell_type": "markdown",
   "metadata": {},
   "source": [
    "On a accepté N / j. Empiriquement:"
   ]
  },
  {
   "cell_type": "code",
   "execution_count": 76,
   "metadata": {
    "collapsed": false
   },
   "outputs": [
    {
     "data": {
      "text/plain": [
       "0.7614812332950055"
      ]
     },
     "execution_count": 76,
     "metadata": {},
     "output_type": "execute_result"
    }
   ],
   "source": [
    "N / j"
   ]
  },
  {
   "cell_type": "markdown",
   "metadata": {},
   "source": [
    "Et théoriquement:"
   ]
  },
  {
   "cell_type": "code",
   "execution_count": 77,
   "metadata": {
    "collapsed": false
   },
   "outputs": [
    {
     "data": {
      "text/plain": [
       "0.7601734505331403"
      ]
     },
     "execution_count": 77,
     "metadata": {},
     "output_type": "execute_result"
    }
   ],
   "source": [
    "1 / M"
   ]
  },
  {
   "cell_type": "markdown",
   "metadata": {},
   "source": [
    "La contrainte d'acceptation est optimale."
   ]
  },
  {
   "cell_type": "markdown",
   "metadata": {},
   "source": [
    "### 4 - Générer Laplace à partir de Gauss ?"
   ]
  },
  {
   "cell_type": "markdown",
   "metadata": {},
   "source": [
    "Non car on ne peut pas majorer g par f car les queues de la distribution gaussienne tendent en exp(-x^2) vers 0 (et en exp(-x) pour g). On plot le rapport g / f:"
   ]
  },
  {
   "cell_type": "code",
   "execution_count": 78,
   "metadata": {
    "collapsed": false
   },
   "outputs": [
    {
     "data": {
      "image/png": "[encoded data removed]",
      "text/plain": [
       "<matplotlib.figure.Figure at 0x10739dc18>"
      ]
     },
     "metadata": {},
     "output_type": "display_data"
    }
   ],
   "source": [
    "n = 1000\n",
    "x = np.linspace(-10, 10, n)\n",
    "plt.figure(figsize=(8, 6))\n",
    "plt.plot(x, g(x) / f(x), color='indianred', lw=3, label=r\"$\\frac{g(x)}{f(x)}$\")\n",
    "plt.legend(fontsize=20)\n",
    "plt.show()"
   ]
  },
  {
   "cell_type": "code",
   "execution_count": null,
   "metadata": {
    "collapsed": true
   },
   "outputs": [],
   "source": []
  }
 ],
 "metadata": {
  "anaconda-cloud": {},
  "kernelspec": {
   "display_name": "Python [conda root]",
   "language": "python",
   "name": "conda-root-py"
  },
  "language_info": {
   "codemirror_mode": {
    "name": "ipython",
    "version": 3
   },
   "file_extension": ".py",
   "mimetype": "text/x-python",
   "name": "python",
   "nbconvert_exporter": "python",
   "pygments_lexer": "ipython3",
   "version": "3.5.2"
  }
 },
 "nbformat": 4,
 "nbformat_minor": 1
}
