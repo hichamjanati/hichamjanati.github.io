{
 "cells": [
  {
   "cell_type": "markdown",
   "metadata": {
    "collapsed": true
   },
   "source": [
    "<h1 align='center'> SMC - TD5 </h1>\n",
    "<h4 align='right'><i> author: Hicham Janati </i></h4>\n",
    "<h3> Antithetic & control variables  </h3>"
   ]
  },
  {
   "cell_type": "code",
   "execution_count": 13,
   "metadata": {},
   "outputs": [],
   "source": [
    "import numpy as np\n",
    "%matplotlib inline\n",
    "from matplotlib import pyplot as plt"
   ]
  },
  {
   "cell_type": "markdown",
   "metadata": {},
   "source": [
    "Soit $X = (X_1, \\dots, X_d)$ un vecteur gaussian. On se propose d'estimer la probabilité d'appartenir à une région définie par $$ A = \\{ (x_1, \\dots, x_d) \\quad \\quad \\left|\\prod_{i=1}^d x_i\\right| \\leq C \\}$$\n",
    "\n",
    "La méthode simple (et naïve) consiste à sampler des points et simplement compter le nombre de points qui y sont tombés, formellement l'estimateur Monte-Carlo $Y_n$:\n",
    "\n",
    "$$ P(X \\in A) = E(\\unicode{x1D7D9}_A(X)) $$\n",
    "Et donc on prend comme estimatateur: $Y_n = \\frac{1}{n}\\sum_{i=1}^n \\unicode{x1D7D9}_A(X_i)$"
   ]
  },
  {
   "cell_type": "code",
   "execution_count": 14,
   "metadata": {},
   "outputs": [],
   "source": [
    "def crude_mc(n, d=2, c=1, seed=None):\n",
    "    \"\"\"Crude Monte Carlo estimator\"\"\"\n",
    "    rnd = np.random.RandomState(seed) # random generator\n",
    "    \n",
    "    mean = np.zeros(d)\n",
    "    var = np.eye(d)\n",
    "    X = rnd.multivariate_normal(mean, var, size=n) # Generate Gaussian sample\n",
    "    prodx = np.prod(X, axis=1)\n",
    "    \n",
    "    Y = abs(prodx) <= c # indicator estimator\n",
    "    Ybar = Y.mean()\n",
    "    \n",
    "    return Ybar"
   ]
  },
  {
   "cell_type": "code",
   "execution_count": 15,
   "metadata": {},
   "outputs": [
    {
     "data": {
      "text/plain": [
       "0.7911"
      ]
     },
     "execution_count": 15,
     "metadata": {},
     "output_type": "execute_result"
    }
   ],
   "source": [
    "crude_mc(100000, d=2, c=1.)"
   ]
  },
  {
   "cell_type": "markdown",
   "metadata": {},
   "source": [
    "Comme variable de contrôle, on prend $W = \\phi(X^{(1)}, \\dots, X^{(d)}) = \\left|\\prod_{j=1}^d X^{(j)}\\right|$\n",
    "car W est corrélée avec $Y = \\unicode{x1D7D9}_A(X)$ et en plus on connait a priori $\\mu = E(W) = E(|X^{(1)}|)^d = (\\frac{2}{\\pi})^{d/2}$ et on pose:\n",
    "$$ Z = Y + \\alpha (W - \\mu) $$\n",
    "\n",
    "Minimiser la variance de Z en fonction de $\\alpha$ donne $\\alpha = - \\frac{cov(W, Y)}{var(W)}$\n",
    "La variance de W peut être calculée a priori: $Var(W) = 1 - (\\frac{2}{\\pi})^d$, en revanche $cov(W,Y)$ peut être approchée par l'estimateur empirique $\\frac{1}{n-1} (w_i - \\mu)(y_i - \\bar{y_n})$"
   ]
  },
  {
   "cell_type": "code",
   "execution_count": 16,
   "metadata": {},
   "outputs": [],
   "source": [
    "def control_var(n, d=2, c=0.1, seed=None, verbose=False):\n",
    "    \"\"\"Control variates estimator\"\"\"\n",
    "    \n",
    "    rnd = np.random.RandomState(seed)\n",
    "    mean = np.zeros(d)\n",
    "    var = np.eye(d)\n",
    "    X = rnd.multivariate_normal(mean, var, size=n)\n",
    "    \n",
    "    prodx = np.prod(X, axis=1)\n",
    "    Y = abs(prodx) <= c\n",
    "    ybar = Y.mean()\n",
    "    \n",
    "    W = abs(prodx) # Control variates W\n",
    "    mean_w =  (2 / np.pi) ** (d / 2) # mean and variance of W\n",
    "    var_w = (1 - (2 / np.pi) ** d)\n",
    "    cov_wy = (W - mean_w).dot(Y - ybar) / (n - 1) # Cov(W, Y)\n",
    "    beta = - cov_wy / var_w\n",
    "    \n",
    "    Z =  ybar + beta * (W - mean_w).mean()\n",
    "    \n",
    "    return Z"
   ]
  },
  {
   "cell_type": "code",
   "execution_count": 17,
   "metadata": {},
   "outputs": [
    {
     "data": {
      "text/plain": [
       "0.799970035421104"
      ]
     },
     "execution_count": 17,
     "metadata": {},
     "output_type": "execute_result"
    }
   ],
   "source": [
    "control_var(1000, d=2, c=1.)"
   ]
  },
  {
   "cell_type": "code",
   "execution_count": 18,
   "metadata": {},
   "outputs": [],
   "source": [
    "n, d, c = 10000, 10, 0.01\n",
    "N = 100\n",
    "sample_crude = [crude_mc(n, d=d, c=c) for _ in range(N)]\n",
    "sample_ctr = [control_var(n, d=d, c=c) for _ in range(N)]\n",
    "\n",
    "data = np.empty((N, 2))\n",
    "data[:, 0] = sample_crude\n",
    "data[:, 1] = sample_ctr\n"
   ]
  },
  {
   "cell_type": "code",
   "execution_count": 19,
   "metadata": {},
   "outputs": [
    {
     "data": {
      "image/png": "[encoded data removed]",
      "text/plain": [
       "<matplotlib.figure.Figure at 0x1a138c4b00>"
      ]
     },
     "metadata": {},
     "output_type": "display_data"
    }
   ],
   "source": [
    "plt.figure()\n",
    "plt.boxplot(data, labels=[\"Crude MC\", \"Control Variates\"])\n",
    "plt.show()"
   ]
  },
  {
   "cell_type": "code",
   "execution_count": null,
   "metadata": {},
   "outputs": [],
   "source": []
  }
 ],
 "metadata": {
  "anaconda-cloud": {},
  "kernelspec": {
   "display_name": "Python 3",
   "language": "python",
   "name": "python3"
  },
  "language_info": {
   "codemirror_mode": {
    "name": "ipython",
    "version": 3
   },
   "file_extension": ".py",
   "mimetype": "text/x-python",
   "name": "python",
   "nbconvert_exporter": "python",
   "pygments_lexer": "ipython3",
   "version": "3.6.4"
  }
 },
 "nbformat": 4,
 "nbformat_minor": 1
}
