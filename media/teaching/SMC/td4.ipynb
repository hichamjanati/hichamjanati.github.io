{
 "cells": [
  {
   "cell_type": "markdown",
   "metadata": {
    "collapsed": true
   },
   "source": [
    "<h1 align='center'> SMC - TD4 </h1>\n",
    "<h4 align='right'><i> author: Hicham Janati </i></h4>\n",
    "<h3> Loi géométrique  </h3>"
   ]
  },
  {
   "cell_type": "code",
   "execution_count": 1,
   "metadata": {},
   "outputs": [],
   "source": [
    "import numpy as np\n",
    "%matplotlib inline\n",
    "from matplotlib import pyplot as plt"
   ]
  },
  {
   "cell_type": "markdown",
   "metadata": {},
   "source": [
    "Soit $X \\sim exp(\\lambda)$. Montrez que la partie entière de X suit la loi géométrique à préciser."
   ]
  },
  {
   "cell_type": "code",
   "execution_count": 2,
   "metadata": {},
   "outputs": [],
   "source": [
    "def geometric(p, n, seed=None):\n",
    "    \"\"\"Geometric generator using inverse method of exponential distribution.\n",
    "    p: probability of success parameter.\n",
    "    n: int.\n",
    "        number of samples.\n",
    "    seed: int (optional).\n",
    "        random seed initialization.\n",
    "    \"\"\"\n",
    "    # init generator\n",
    "    rnd = np.random.RandomState(seed)\n",
    "    \n",
    "    # generate U, uniform\n",
    "    U = rnd.rand(n)\n",
    "    \n",
    "    gamma = np.log(1 - p)\n",
    "    # generate X, exponential(gamma)\n",
    "    X = np.log(U) / gamma\n",
    "    \n",
    "    # Take integer part of X\n",
    "    Y = np.floor(X) + 1\n",
    "    return Y"
   ]
  },
  {
   "cell_type": "code",
   "execution_count": 3,
   "metadata": {},
   "outputs": [],
   "source": [
    "n, p = 1000, 0.5\n",
    "Y = geometric(p, n)"
   ]
  },
  {
   "cell_type": "markdown",
   "metadata": {},
   "source": [
    "Let's estimate it's CDF. To do that, we need to only need to sort the entries and compute a cumulative mean. Suppose $y^1, \\dots, y^n$ are sorted entries of Y, the empirical CDF is given by:\n",
    "\n",
    "$$ CDF_n(y) =\\frac{1}{n}\\sum_{i=1}^n\\iota_{y^i <= y} $$\n",
    "\n",
    "The theoretical CDF is given by:\n",
    "$$ F(k) = 1 - (1-p)^{k + 1}$$"
   ]
  },
  {
   "cell_type": "markdown",
   "metadata": {},
   "source": [
    "Draw CDF vertically:"
   ]
  },
  {
   "cell_type": "code",
   "execution_count": 4,
   "metadata": {},
   "outputs": [
    {
     "data": {
      "image/png": "[encoded data removed]",
      "text/plain": [
       "<matplotlib.figure.Figure at 0x10c9b1710>"
      ]
     },
     "metadata": {},
     "output_type": "display_data"
    }
   ],
   "source": [
    "plt.figure()\n",
    "ysorted = np.sort(Y)\n",
    "plt.plot(ysorted, np.linspace(0, 1, len(Y)), color='cornflowerblue', lw=3) # Empirical CDF\n",
    "grid = np.linspace(0., Y.max(), 1000)\n",
    "cdf_true = 1 - (1 - p) ** (np.floor(grid)) # true cdf\n",
    "plt.plot(grid, cdf_true, color='indianred', lw=2)\n",
    "plt.show()"
   ]
  },
  {
   "cell_type": "markdown",
   "metadata": {},
   "source": [
    "Draw CDF horizontally:"
   ]
  },
  {
   "cell_type": "code",
   "execution_count": 5,
   "metadata": {},
   "outputs": [
    {
     "data": {
      "image/png": "[encoded data removed]",
      "text/plain": [
       "<matplotlib.figure.Figure at 0x10c9b1080>"
      ]
     },
     "metadata": {},
     "output_type": "display_data"
    }
   ],
   "source": [
    "plt.figure()\n",
    "ysorted = np.sort(Y)\n",
    "grid = np.linspace(0, Y.max(), len(Y))\n",
    "gridx = np.linspace(1, Y.max(), len(Y))\n",
    "cdf = (ysorted <= gridx).cumsum() / len(ysorted)\n",
    "cdf_true = 1 - (1 - p) ** (np.floor(grid)) # true cdf\n",
    "plt.plot(grid, cdf_true, color='indianred', lw=2)\n",
    "plt.plot(ysorted, cdf, color='cornflowerblue', lw=3) # Empirical CDF\n",
    "plt.show()"
   ]
  },
  {
   "cell_type": "code",
   "execution_count": null,
   "metadata": {},
   "outputs": [],
   "source": []
  }
 ],
 "metadata": {
  "anaconda-cloud": {},
  "kernelspec": {
   "display_name": "Python 3",
   "language": "python",
   "name": "python3"
  },
  "language_info": {
   "codemirror_mode": {
    "name": "ipython",
    "version": 3
   },
   "file_extension": ".py",
   "mimetype": "text/x-python",
   "name": "python",
   "nbconvert_exporter": "python",
   "pygments_lexer": "ipython3",
   "version": "3.6.4"
  }
 },
 "nbformat": 4,
 "nbformat_minor": 1
}
