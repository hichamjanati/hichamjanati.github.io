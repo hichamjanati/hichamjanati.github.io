{
  "cells": [
    {
      "cell_type": "markdown",
      "metadata": {},
      "source": [
        "* * *\n",
        "<pre> Insea 2025            <i> Statistiques Bayésiennes </i></pre>\n",
        "* * *\n",
        "\n",
        "\n",
        "<h1 align=\"center\"> TP3: Modèles Bayésiens Hiérarchiques (I) </h1>\n",
        "\n",
        "<pre align=\"right\">                <i> Author: Hicham Janati </i></pre>\n",
        "* * *\n",
        "\n",
        "\n",
        "##### Objectifs:\n",
        "- Découvrir la librairie PyMC\n",
        "- Implémenter les premiers modèles bayésiens et faire le diagnostic de convergence\n",
        "- Interpréter les résultats\n"
      ]
    },
    {
      "cell_type": "code",
      "execution_count": null,
      "metadata": {},
      "outputs": [],
      "source": [
        "# Installation si nécessaire\n",
        "!pip install pymc arviz numpy pandas matplotlib seaborn ipywidgets\n"
      ]
    },
    {
      "cell_type": "markdown",
      "id": "60ee79a2",
      "metadata": {},
      "source": [
        "On importe les librariries et un crée un générateur aléatoire:"
      ]
    },
    {
      "cell_type": "code",
      "execution_count": null,
      "metadata": {},
      "outputs": [],
      "source": [
        "import numpy as np\n",
        "import pandas as pd\n",
        "import matplotlib.pyplot as plt\n",
        "import seaborn as sns\n",
        "import pymc as pm\n",
        "import arviz as az\n",
        "\n",
        "# Configuration pour de meilleurs graphiques\n",
        "plt.style.use('seaborn-v0_8-whitegrid')\n",
        "sns.set_context('notebook')\n",
        "\n",
        "seed = 42\n",
        "rng = np.random.default_rng(seed)"
      ]
    },
    {
      "cell_type": "markdown",
      "metadata": {},
      "source": [
        "\n",
        "# 1. Modèle Poisson-Gamma hiérarchique \n",
        "Dans le cadre de la modélisation du nombre de sinistres, il n'est pas pratique de considérer un $\\lambda_i$ spécifique à chaque individu car les données individuelles contiennent très souvent très peu d'observations. Ici, on souhaite donc regrouper les assurés en utilisant leurs informations individuelles. Nous avons une variable `age` qui donne l'âge du conducteur en 4 catégories: \n",
        "\n",
        "- `age` = 0 (< 30 ans)\n",
        "- `age` = 1 (entre 30 et 50 ans)\n",
        "- `age` = 2 (entre 50 et 60 ans)\n",
        "- `age` = 3 (supérieur à 60 ans)\n",
        "\n",
        "Pour tenir compte des différences entre les catégories, on modélise chaque catégorie par un taux de sinistre spécifique $\\textcolor{red}{\\lambda_j}$ avec $j\\in \\{0, 1, 2, 3\\}$. Pour prendre en compte leur similarité, les $\\textcolor{red}{\\lambda_j}$ sont modélisés avec une loi a priori commune $\\text{Gamma}(\\textcolor{purple}{\\alpha},  \\textcolor{purple}{\\beta})$.\n",
        "\n",
        "- Si des données historiques peuvent être utilisées, alors $\\textcolor{purple}{\\alpha}$ et $ \\textcolor{purple}{\\beta}$ sont choisis (constantes a priori) avec la méthode des moments (comme en TD1)\n",
        "- Sinon, on les modélise comme des variables aléatoires avec une loi apriori $\\pi$ assez vague (grande variance, ou uniforme).\n",
        "\n",
        "Le deuxième cas définit une structure bayésienne à deux niveaux:\n",
        "1. Le nombre de sinistre $\\textcolor{blue}{N}$ dépend de $\\textcolor{red}{\\lambda_j}$: $\\textcolor{blue}{N} | \\textcolor{red}{\\lambda_j} \\sim \\mathcal{P}(\\textcolor{red}{\\lambda_j})$\n",
        "2. Le taux de sinistre  $\\textcolor{red}{\\lambda_j}$ dépend de $ \\textcolor{purple}{\\alpha}$ et $ \\textcolor{purple}{\\beta}: \\textcolor{red}{\\lambda_j} | \\textcolor{purple}{\\alpha},  \\textcolor{purple}{\\beta}  \\sim \\text{Gamma}(\\textcolor{purple}{\\alpha},  \\textcolor{purple}{\\beta})$ avec $\\textcolor{purple}{\\alpha}$ et $\\textcolor{purple}{\\beta}$ et  $\\textcolor{purple}{\\alpha},  \\textcolor{purple}{\\beta} \\sim \\pi$.\n",
        "\n",
        "C'est un modèle hiérarchique. On considère une loi a priori Uniforme(0, 10).\n",
        "\n",
        "Voici les données (extraites et filtrées à partir de https://www.kaggle.com/datasets/saisatish09/insuranceclaimsdata?select=dataCar.csv)\n"
      ]
    },
    {
      "cell_type": "code",
      "execution_count": null,
      "id": "2f69f7a1",
      "metadata": {},
      "outputs": [],
      "source": [
        "df = pd.read_csv(\"df/claims_age.csv\", index_col=0)\n",
        "print(df.shape)\n",
        "df.head()"
      ]
    },
    {
      "cell_type": "markdown",
      "id": "ff9db896",
      "metadata": {},
      "source": [
        "Nous avons donc les données de 10205 assurés. On peut commencer par voir la taille de chaque groupe:"
      ]
    },
    {
      "cell_type": "code",
      "execution_count": null,
      "id": "76bd1d9e",
      "metadata": {},
      "outputs": [],
      "source": [
        "df.age.value_counts()"
      ]
    },
    {
      "cell_type": "markdown",
      "id": "f560f008",
      "metadata": {},
      "source": [
        "##### **Question 1:** On remarque que la catégorie d'âge 1 (30-40 ans) est la plus grande avec 4610 assurés. Celle des > 60 ans est la plus petite avec 1400 assurés. À quoi peut-on s'attendre concernant la qualité de l'estimation de chaque $\\textcolor{red}{\\lambda_j}$ ?\n"
      ]
    },
    {
      "cell_type": "code",
      "execution_count": null,
      "id": "07daf7fb",
      "metadata": {},
      "outputs": [],
      "source": []
    },
    {
      "cell_type": "markdown",
      "id": "163e18eb",
      "metadata": {},
      "source": [
        "On regarde la distribution du nombre de sinistre déclarés par assuré:"
      ]
    },
    {
      "cell_type": "code",
      "execution_count": null,
      "id": "1c234373",
      "metadata": {},
      "outputs": [],
      "source": [
        "df.numclaims.value_counts()"
      ]
    },
    {
      "cell_type": "markdown",
      "id": "a4b44ab2",
      "metadata": {},
      "source": [
        "##### **Question 2:** On remarque que plus de 90% des assurés ne déclarent jamais de sinistres. Seulement 50/10250 ont déclaré 2 ou 3 sinistres. Quel est l'ordre de grandeur (ou fourchette de valeurs) des  $\\textcolor{red}{\\lambda_j}$  auquel on peut s'attendre ?\n"
      ]
    },
    {
      "cell_type": "code",
      "execution_count": null,
      "id": "e4942270",
      "metadata": {},
      "outputs": [],
      "source": []
    },
    {
      "cell_type": "markdown",
      "id": "fad24e1a",
      "metadata": {},
      "source": [
        "##### **Question 3:** On note les nombres de sinistres de chaque groupe d'âge $j$ par $\\textcolor{blue}{N}_1^j, \\dots, \\textcolor{blue}{N}_{n_j}^j | \\textcolor{red}{\\lambda_j} \\sim \\mathcal{P}(\\textcolor{red}{\\lambda_j})$. Ainsi, d'après la distribution ci-dessus des catégories d'âge: $n_0 = 2377$, $n_1 = 4610$ etc... Représentez le graphe probabiliste de ce modèle et déterminez la formule de la loi a posteriori jointe en fonction des lois de l'énoncé. "
      ]
    },
    {
      "cell_type": "code",
      "execution_count": null,
      "id": "45f41cdc",
      "metadata": {},
      "outputs": [],
      "source": []
    },
    {
      "cell_type": "markdown",
      "id": "3e258b60",
      "metadata": {},
      "source": [
        "#### **Question 4:** Implémentez le modèle hiérarchique avec pymc et faites le diagnostic MCMC"
      ]
    },
    {
      "cell_type": "code",
      "execution_count": null,
      "id": "7b24e1d1",
      "metadata": {},
      "outputs": [],
      "source": []
    },
    {
      "cell_type": "markdown",
      "id": "46334063",
      "metadata": {},
      "source": [
        "#### **Question 5:** Calculez les bonnes probabilités de type $\\mathbb P(\\textcolor{red}{\\lambda_j} < \\textcolor{red}{\\lambda_k})$ pour déterminer si certains groupes d'âge ont des risques différents ou non. Commenter"
      ]
    },
    {
      "cell_type": "code",
      "execution_count": null,
      "id": "4360d89f",
      "metadata": {},
      "outputs": [],
      "source": []
    },
    {
      "cell_type": "markdown",
      "id": "49ebcc79",
      "metadata": {},
      "source": [
        "# 2. Bayesian Poisson regression  \n",
        "En plus de l'âge du conducteur, nous avons également la catégorie d'âge du véhicule (`veh_age`) et la valeur du véhicule en '\\$' (`veh_value`) (divisée par 10000). Une structure bayésienne hiérarchique n'est plus possible (à moins de diviser la variable `veh_value` en catégories et créer tous les croisements de catégories `age` x `veh_age` x `veh_value` possibles chacune avec son taux $\\textcolor{red}{\\lambda_j}$). Une meilleur approche est de considérer une regression linéaire où on prédit le taux de sinistre avec une combinaison linéaire des variables:\n",
        "$\\textcolor{red}{\\lambda} = \\textcolor{blue}{\\beta_0} + \\textcolor{blue}{\\beta_1} \\text{age} + \\textcolor{blue}{\\beta_2} \\text{veh\\_age} + \\textcolor{blue}{\\beta_3} \\text{veh\\_value}$. Or $\\textcolor{red}{\\lambda} > 0$, ce qui n'est pas respecté ici. On utilise un modèle linéaire généralisé où c'est $\\log(\\textcolor{red}{\\lambda})$ qui est expliquée:\n",
        "\n",
        "$$ N | \\textcolor{red}{\\lambda} \\sim \\mathcal P(\\textcolor{red}{\\lambda})$$\n",
        "$$\\log(\\textcolor{red}{\\lambda}) =  \\textcolor{blue}{\\beta_0} + \\textcolor{blue}{\\beta_1} \\text{age} + \\textcolor{blue}{\\beta_2} \\text{veh\\_age} + \\textcolor{blue}{\\beta_3} \\text{veh\\_value}$$\n",
        "\n",
        "Avec une loi a priori $\\textcolor{blue}{\\beta_0}, \\textcolor{blue}{\\beta_1}, \\textcolor{blue}{\\beta_2}, \\textcolor{blue}{\\beta_3} \\sim \\mathcal{N}(0, 1)$."
      ]
    },
    {
      "cell_type": "markdown",
      "id": "e839fef9",
      "metadata": {},
      "source": [
        "#### **Question 6:** On suppose que $\\textcolor{blue}{\\beta_1} = 0.2$. Si toutes les variables sauf l'âge ne changent pas, quel est l'effet de passer à une catégorie d'âge supérieur (càd que l'âge passe de 0 à 1, ou 1 à 2 ou 2 à 3) sur $\\textcolor{red}{\\lambda}$ ? Répondez à la question en terme de pourcentage de changement."
      ]
    },
    {
      "cell_type": "code",
      "execution_count": null,
      "id": "90a84f70",
      "metadata": {},
      "outputs": [],
      "source": [
        "df = pd.read_csv(\"data/claims_reg.csv\", index_col=0)\n",
        "df.head()"
      ]
    },
    {
      "cell_type": "markdown",
      "id": "2dc41aca",
      "metadata": {},
      "source": [
        "#### **Question 7:** Complétez le modèle bayésien ci-dessous et faites le diagonostic de convergence. En pratique, on définit $\\textcolor{red}{\\lambda}$ comme l'exp de la combinaison linéaire. "
      ]
    },
    {
      "cell_type": "code",
      "execution_count": null,
      "id": "d6258894",
      "metadata": {},
      "outputs": [],
      "source": [
        "coords = dict(var_name=[\"intercept\", \"age\", \"veh_age\", \"veh_value\"]) # dictionnaire qui sert à nommer les variables\n",
        "with pm.Model(coords=coords) as reg_model:\n",
        "    # beta = pm.Normal(\"beta\", mu=0, sigma=1, dims=\"var_name\") # vecteur des betas de taille 4 nommé selon \"var_name\" de coords\n",
        "    # TO DO\n",
        "    #\n",
        "    #\n",
        "    # lambda_ =\n",
        "    lambda_ = pm.Gamma(\"lambda\", 0.1, 0.1)\n",
        "    N = pm.Poisson(\"N\", mu=lambda_, observed=df[\"numclaims\"])\n",
        "    trace = pm.sample()\n"
      ]
    },
    {
      "cell_type": "markdown",
      "id": "2aa05cdc",
      "metadata": {},
      "source": [
        "#### **Question 8:** Interprétez les valeurs et HDI obtenus pour chaque coefficient de regression $\\beta_i$."
      ]
    },
    {
      "cell_type": "code",
      "execution_count": null,
      "id": "2d4d44cb",
      "metadata": {},
      "outputs": [],
      "source": [
        "az.summary(trace)"
      ]
    },
    {
      "cell_type": "markdown",
      "id": "2647ff54",
      "metadata": {},
      "source": [
        "\n",
        "#### **Question 9:** On souhaite vérifier que le modèle fit bien les données. Pour cela on peut utiliser les échantillons MCMC ($\\beta$) pour générer des données $N_i$ (`pm.sample_posterior_predictive`) et comparer la vraisemblance avec la distribution des données générées. Qu'en pensez-vous ? "
      ]
    },
    {
      "cell_type": "code",
      "execution_count": null,
      "id": "74244e75",
      "metadata": {},
      "outputs": [],
      "source": [
        "with reg_model:\n",
        "    pm.sample_posterior_predictive(trace, extend_inferencedata=True) # ce paramètre = True fait qu'on modifie l'objet `trace` en rajoutant les samples de la predictive posterior\n",
        "az.plot_ppc(trace)"
      ]
    },
    {
      "cell_type": "markdown",
      "id": "a2b1816f",
      "metadata": {},
      "source": [
        "#### **Question 10** Now time to break it ! Pour bien cerner ce qui explique le bon fit des données de la question précédente, réduisez la complexité du modèle (le simplifier en enlevant des variables) jusqu'à ce que la fonction prédictive s'éloigne des données. Que peut-on en déduire ?"
      ]
    },
    {
      "cell_type": "code",
      "execution_count": null,
      "id": "069ba60e",
      "metadata": {},
      "outputs": [],
      "source": []
    },
    {
      "cell_type": "markdown",
      "id": "315dc90e",
      "metadata": {},
      "source": [
        "#### **Question 11:** Vus les résultats obtenus, il se peut que certains coefficients soient biaisés par le choix restrictif de l'a priori Gaussien avec variance égale à 1. On considère à présent $\\sigma$ comme une variable aléatoire avec un a priori gaussienne positive (tronquée, `pm.HalfNormal`) avec un hyperparamètre $\\sigma = 1$. Implémentez ce modèle. les résultats ont-ils changé considérablement ? Interpréter."
      ]
    },
    {
      "cell_type": "code",
      "execution_count": null,
      "id": "9d55183a",
      "metadata": {},
      "outputs": [],
      "source": []
    },
    {
      "cell_type": "markdown",
      "id": "f490eee8",
      "metadata": {},
      "source": [
        "#### **Question 12:** On peut évaluer la qualité de ces modèles (et choisir le meilleur) avec le critère bayésien LOO (Leave-one-out).\n",
        "LOO consiste à évaluer la log-vraisemblance de prédiction d'un échantillon $i$ après l'avoir enlevé des données, autrement dit, si on note $N_1, \\dots, N_n$ les observations, alors $N_{-i}$ représente toutes les données sauf $N_i$, on note donc $N_{-i} = \\{N_1, \\dots, N_{i-1}, N_{i+1}, \\dots N_n\\}$. La fonction de prédiction (en log-probabilité) pour des données nouvelles est dit \"expected log predictive density (ELPD)\":\n",
        "$$ ELPD_i = \\log p(N_i | N_{-i}) $$ \n",
        "Le critère LOO évalue la log-vraisemblance pour tous les échantillons (qui sont enlevés et prédits avec le reste à tour de rôle):\n",
        "$$  ELPD = \\sum_{i=1}^n ELPD_i = \\sum_{i=1}^n \\log p(N_i | N_{-i}) $$\n",
        "Avec la loi des probabilités totale:\n",
        "$$ p(N_i | N_{-i}) = \\int p(N_i | \\beta, N_{-i}) p(\\beta | N_{-i}) \\mathrm d\\beta $$ \n",
        "Cette intégrale est approchée par Importance sampling (IS) avec une loi de Pareto généralisée qui doit avoir une variance finie sinon IS est instable. Sa variance est finie si son paramètre $k < 0.5$. `arviz` nous donne l'estimation du ELPD ainsi que la qualité de l'estimation (k pour chaque $i$). Il faut d'abord calculer les loglikelihoods avec `pm`:"
      ]
    },
    {
      "cell_type": "code",
      "execution_count": null,
      "id": "be1d0293",
      "metadata": {},
      "outputs": [],
      "source": [
        "with reg_model:\n",
        "    pm.compute_log_likelihood(trace)\n",
        "az.plot_loo(trace)"
      ]
    },
    {
      "cell_type": "markdown",
      "id": "3c94807b",
      "metadata": {},
      "source": [
        "Pour comparer tous les modèles vus dans ce notebook, on peut utiliser la fonction `az.compare` qui prend en argument un dictionnaire avec des noms des modèles en keys et les objets models en valeurs. Complétez ce code avec vos modèles et analysez, `arviz` trie les modèles par défaut du meilleur au pire:"
      ]
    },
    {
      "cell_type": "code",
      "execution_count": null,
      "id": "3380b26d",
      "metadata": {},
      "outputs": [],
      "source": [
        "models_dict = {\"reg_model\": reg_model, ...}\n",
        "az.compare(models_dict)"
      ]
    }
  ],
  "metadata": {
    "kernelspec": {
      "display_name": "base",
      "language": "python",
      "name": "python3"
    },
    "language_info": {
      "codemirror_mode": {
        "name": "ipython",
        "version": 3
      },
      "file_extension": ".py",
      "mimetype": "text/x-python",
      "name": "python",
      "nbconvert_exporter": "python",
      "pygments_lexer": "ipython3",
      "version": "3.12.2"
    }
  },
  "nbformat": 4,
  "nbformat_minor": 5
}
