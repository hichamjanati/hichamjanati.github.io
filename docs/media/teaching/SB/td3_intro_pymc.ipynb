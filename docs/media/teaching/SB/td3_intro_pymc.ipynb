{
  "cells": [
    {
      "cell_type": "markdown",
      "metadata": {},
      "source": [
        "* * *\n",
        "<pre> Insea 2025            <i> Statistiques Bayésiennes </i></pre>\n",
        "* * *\n",
        "\n",
        "\n",
        "<h1 align=\"center\"> TP3: Introduction à PyMC </h1>\n",
        "\n",
        "<pre align=\"right\">                <i> Author: Hicham Janati </i></pre>\n",
        "* * *\n",
        "\n",
        "\n",
        "##### Objectifs:\n",
        "- Découvrir la librairie PyMC\n",
        "- Implémenter les premiers modèles bayésiens et faire le diagnostic de convergence\n",
        "- Interpréter les résultats et comparer avec les statistiques fréquentistes\n"
      ]
    },
    {
      "cell_type": "code",
      "execution_count": null,
      "metadata": {},
      "outputs": [],
      "source": [
        "%pip install pymc arviz numpy pandas matplotlib ipywidgets"
      ]
    },
    {
      "cell_type": "markdown",
      "id": "60ee79a2",
      "metadata": {},
      "source": [
        "On importe les librariries et un crée un générateur aléatoire:"
      ]
    },
    {
      "cell_type": "code",
      "execution_count": null,
      "metadata": {},
      "outputs": [],
      "source": [
        "import numpy as np\n",
        "import pandas as pd\n",
        "import matplotlib.pyplot as plt\n",
        "import pymc as pm\n",
        "import arviz as az\n",
        "\n",
        "\n",
        "seed = 42\n",
        "rng = np.random.default_rng(seed)"
      ]
    },
    {
      "cell_type": "markdown",
      "metadata": {},
      "source": [
        "\n",
        "# Modèle Poisson-Gamma simple\n",
        "\n",
        "On considère l'ex 1 du TD1. On observe le nombre de sinistres par année $N | \\lambda \\sim \\mathcal{P}(\\lambda)$, où $\\lambda$ suit une loi a priori $\\text{Gamma}(a, b)$. On suppose que les données historiques mènent au choix a = 4 et b = 2. On utilise la définition de Gamma où b correspond au \"rate\" et non pas au scale (comme en TD), la moyenne de cette Gamma est a/b. (voir [wikipedia](https://en.wikipedia.org/wiki/Gamma_distribution)). \n",
        "\n",
        "On suppose que les 5 observations sont données par:"
      ]
    },
    {
      "cell_type": "code",
      "execution_count": null,
      "id": "9177d602",
      "metadata": {},
      "outputs": [],
      "source": [
        "data = np.array([4, 0, 2, 1, 0])\n",
        "rng = np.random.default_rng(42)\n",
        "lambda_true = 2\n",
        "data = rng.poisson(lambda_true, size=5)"
      ]
    },
    {
      "cell_type": "markdown",
      "id": "9265685f",
      "metadata": {},
      "source": [
        "On définit le modèle bayésien dans un contexte avec pymc ou on précise la distribution, le nom et les paramètres de chaque variable"
      ]
    },
    {
      "cell_type": "code",
      "execution_count": null,
      "id": "f4de0f1c",
      "metadata": {},
      "outputs": [],
      "source": [
        "a = 4\n",
        "b = 2\n",
        "with pm.Model() as model:\n",
        "    lambda_ = pm.Gamma(\"lambda\", a, b) # non observée\n",
        "    N_obs = pm.Poisson(\"N_obs\", mu=lambda_, observed=data) # observée\n",
        "    trace = pm.sample(1000) # on simule une chaine MCMC de la loi a posteriori"
      ]
    },
    {
      "cell_type": "markdown",
      "id": "402efe91",
      "metadata": {},
      "source": [
        "On voit que pymc a automatiquement choisi NUTS et a simulé 4 chaînes avec 2000 échantillons chacune dont 1000 jetés (tuning / burn-in). Voyons ce que contient l'objet trace:"
      ]
    },
    {
      "cell_type": "code",
      "execution_count": null,
      "id": "a7046d7f",
      "metadata": {},
      "outputs": [],
      "source": [
        "trace"
      ]
    },
    {
      "cell_type": "markdown",
      "id": "4037a345",
      "metadata": {},
      "source": [
        "C'est un objet `InferenceData` du package `arviz`. On peut obtenir les échantillons simulés dans l'attribut posterior:"
      ]
    },
    {
      "cell_type": "code",
      "execution_count": null,
      "id": "572cb29b",
      "metadata": {},
      "outputs": [],
      "source": [
        "trace.posterior[\"lambda\"].data"
      ]
    },
    {
      "cell_type": "code",
      "execution_count": null,
      "id": "499b64a0",
      "metadata": {},
      "outputs": [],
      "source": [
        "trace.posterior[\"lambda\"].data.shape"
      ]
    },
    {
      "cell_type": "markdown",
      "id": "fb0fb0f1",
      "metadata": {},
      "source": [
        "On a effectivement généré 4 chaines avec 1000 échantillons chacune. On peut les visualiser:"
      ]
    },
    {
      "cell_type": "code",
      "execution_count": null,
      "id": "03f944b6",
      "metadata": {},
      "outputs": [],
      "source": [
        "plt.figure()\n",
        "plt.plot(trace.posterior[\"lambda\"].data.T)\n",
        "plt.grid(True)\n",
        "plt.title(\"Trace plot\")\n",
        "plt.show()\n"
      ]
    },
    {
      "cell_type": "markdown",
      "id": "919df68c",
      "metadata": {},
      "source": [
        "Ou utiliser la librairie arviz directement qui donne également une estimation de la densité a posteriori:"
      ]
    },
    {
      "cell_type": "code",
      "execution_count": null,
      "id": "93059eeb",
      "metadata": {},
      "outputs": [],
      "source": [
        "az.plot_trace(trace)"
      ]
    },
    {
      "cell_type": "code",
      "execution_count": null,
      "id": "90a0d3bf",
      "metadata": {},
      "outputs": [],
      "source": []
    },
    {
      "cell_type": "markdown",
      "id": "8afacdb1",
      "metadata": {},
      "source": [
        "On fait le diagnostic de convergence:"
      ]
    },
    {
      "cell_type": "code",
      "execution_count": null,
      "id": "263ec89c",
      "metadata": {},
      "outputs": [],
      "source": [
        "az.plot_autocorr(trace)\n",
        "plt.show()"
      ]
    },
    {
      "cell_type": "code",
      "execution_count": null,
      "id": "406bdbd3",
      "metadata": {},
      "outputs": [],
      "source": [
        "az.summary(trace)"
      ]
    },
    {
      "cell_type": "code",
      "execution_count": null,
      "id": "a0608e86",
      "metadata": {},
      "outputs": [],
      "source": [
        "az.summary(trace)"
      ]
    },
    {
      "cell_type": "markdown",
      "id": "18e00d2b",
      "metadata": {},
      "source": [
        "- Les tracés sont bien mélangés\n",
        "- Rhat = 1.0 < 1.01 : pas de différence significative entre les 4 chaines\n",
        "- ESS très larges \n",
        "- Autocorrélations diminuent très rapidement\n",
        "\n",
        "Cette chaîne réussit les diagnostics de convergence."
      ]
    },
    {
      "cell_type": "markdown",
      "metadata": {},
      "source": [
        "On peut visualiser la densité a posteriori avec l'intervalle de crédibilité HDI:"
      ]
    },
    {
      "cell_type": "code",
      "execution_count": null,
      "metadata": {},
      "outputs": [],
      "source": [
        "az.plot_posterior(trace, hdi_prob=0.94)"
      ]
    },
    {
      "cell_type": "markdown",
      "metadata": {},
      "source": [
        "Les bornes de cet intervalle sont également présente dans le tableau du summary ci-dessus. On peut calcule un HDI directement:\n"
      ]
    },
    {
      "cell_type": "code",
      "execution_count": null,
      "id": "362be1de",
      "metadata": {},
      "outputs": [],
      "source": [
        "az.hdi(trace, hdi_prob=0.94).to_pandas()"
      ]
    },
    {
      "cell_type": "markdown",
      "id": "20baf81a",
      "metadata": {},
      "source": [
        "On peut calculer un ESS relatif (divisé par le nombre d'échantillons):"
      ]
    },
    {
      "cell_type": "code",
      "execution_count": null,
      "id": "d1120cfc",
      "metadata": {},
      "outputs": [],
      "source": [
        "az.ess(trace, method=\"bulk\", relative=True).to_pandas()"
      ]
    },
    {
      "cell_type": "markdown",
      "id": "3b0bde46",
      "metadata": {},
      "source": [
        "Ainsi, on en déduit que 44% des échantillons \"sont efficaces\" pour estimer \"le centre\" (bulk) de la distribution"
      ]
    },
    {
      "cell_type": "code",
      "execution_count": null,
      "id": "27bf6272",
      "metadata": {},
      "outputs": [],
      "source": []
    },
    {
      "cell_type": "markdown",
      "id": "b82659cc",
      "metadata": {},
      "source": [
        "#### Question 1: Augmenter le nombre de sinistres observés de 5 à 10 puis 100, comment changent les statistiques du az.summary ?"
      ]
    },
    {
      "cell_type": "code",
      "execution_count": null,
      "id": "86fa038d",
      "metadata": {},
      "outputs": [],
      "source": []
    },
    {
      "cell_type": "markdown",
      "id": "786fc5b4",
      "metadata": {},
      "source": [
        "#### Question 2: Les métriques de convergence sont-elle très différentes ? Est-ce surprenant ?"
      ]
    },
    {
      "cell_type": "code",
      "execution_count": null,
      "id": "4c16526e",
      "metadata": {},
      "outputs": [],
      "source": []
    },
    {
      "cell_type": "markdown",
      "id": "2832057c",
      "metadata": {},
      "source": [
        "#### Question 3: Comment peut-on interpréter le HDI obtenu ?"
      ]
    },
    {
      "cell_type": "code",
      "execution_count": null,
      "id": "75d67724",
      "metadata": {},
      "outputs": [],
      "source": []
    },
    {
      "cell_type": "markdown",
      "id": "bf2f9ee4",
      "metadata": {},
      "source": [
        "#### Question 4: En utilisant le fait que la loi a priori soit conjuguée, générez des échantillons a posteriori directement (sans pymc) et comparez\n",
        "\n",
        "La loi a posteriori est $\\text{Gamma}(a + \\sum_{i=1}^n N_i, b + n)$"
      ]
    },
    {
      "cell_type": "code",
      "execution_count": null,
      "id": "d12bc51e",
      "metadata": {},
      "outputs": [],
      "source": [
        "lambda_post_samples = rng.gamma(a + data.sum(), 1/(b + len(data)), size=(4, 1000))\n",
        "\n",
        "ax = az.plot_posterior(trace)\n",
        "ax.hist(lambda_post_samples, bins=100, density=True, alpha=0.7)\n",
        "plt.show()\n"
      ]
    },
    {
      "cell_type": "code",
      "execution_count": null,
      "id": "57c124d5",
      "metadata": {},
      "outputs": [],
      "source": [
        "trace_iid = az.convert_to_inference_data(dict(iid=lambda_post_samples))\n",
        "az.summary(trace_iid)"
      ]
    },
    {
      "cell_type": "code",
      "execution_count": null,
      "id": "eb47b45e",
      "metadata": {},
      "outputs": [],
      "source": [
        "lambda_post_samples.mean()"
      ]
    },
    {
      "cell_type": "code",
      "execution_count": null,
      "id": "235954e6",
      "metadata": {},
      "outputs": [],
      "source": [
        "az.summary(trace)"
      ]
    },
    {
      "cell_type": "markdown",
      "id": "6fcd8833",
      "metadata": {},
      "source": [
        "\n",
        "# Modèle Poisson-Gamma à plusieurs conducteurs\n",
        "\n",
        "On considère désormais les données de plusieurs individus avec un $\\lambda_i$ différent mais un a priori commun. Chaque conducteur $i$ a ses données $N_i^1, \\dots, N_i^m$. Le modèle pymc s'adapte facilement en changeant le shape des paramètres:"
      ]
    },
    {
      "cell_type": "code",
      "execution_count": null,
      "id": "4904398e",
      "metadata": {},
      "outputs": [],
      "source": [
        "data = np.array([[4, 0, 0],\n",
        "                [0, 2, 1],\n",
        "                [2, 2, 0],\n",
        "                [1, 3, 0],\n",
        "                [0, 0, 1]])\n",
        "\n",
        "# donnéees de 3 conducteurs\n",
        "\n",
        "n_drivers = data.shape[1]\n",
        "\n",
        "a = 4\n",
        "b = 2\n",
        "with pm.Model() as model:\n",
        "    lambda_ = pm.Gamma(\"lambda\", a, b, shape=n_drivers) # non observée, on précise le nombre de lambda\n",
        "    # le shape des données par défaut est n_observation x n_features, pymc associe chaque lambda_i a une colonne de data\n",
        "    N_obs = pm.Poisson(\"N_obs\", mu=lambda_, observed=data, ) # observée\n",
        "    trace = pm.sample(1000) # on simule une chaine MCMC de la loi a posteriori\n",
        "    pm.compute_log_likelihood(trace)"
      ]
    },
    {
      "cell_type": "markdown",
      "id": "4cf14185",
      "metadata": {},
      "source": [
        "L'objet trace contient désormais plusieurs variables lambda:"
      ]
    },
    {
      "cell_type": "code",
      "execution_count": null,
      "id": "22f939de",
      "metadata": {},
      "outputs": [],
      "source": [
        "print(az.summary(trace))"
      ]
    },
    {
      "cell_type": "markdown",
      "id": "9618cf57",
      "metadata": {},
      "source": [
        "#### Question 4: Comparez l'estimation fréquentiste avec l'estimation bayésienne avec (a, b) = (4, 2) puis (a, b) = (10, 1). "
      ]
    },
    {
      "cell_type": "code",
      "execution_count": null,
      "id": "63677128",
      "metadata": {},
      "outputs": [],
      "source": [
        "data.mean(0)"
      ]
    },
    {
      "cell_type": "markdown",
      "id": "c667357b",
      "metadata": {},
      "source": [
        "####  Question 5: Déterminez un intervalle de confiance fréquentiste de niveau 95% pour chaque $\\lambda_i$. \n",
        "\n",
        "$[\\bar{N} \\pm \\frac{Q_{97.5}\\hat{\\sigma}}{\\sqrt{n}}]$ avec $Q_{97.5}$ le quantile de la loi de student à n-1 degrés de liberté."
      ]
    },
    {
      "cell_type": "code",
      "execution_count": null,
      "id": "f5fc1d60",
      "metadata": {},
      "outputs": [],
      "source": [
        "from scipy.stats import t\n",
        "\n",
        "n = 5\n",
        "q975 = t.ppf(0.975, df=n-1)\n",
        "sigma = data.std(0)\n",
        "\n",
        "data.mean(0) - q975 * sigma / n ** 0.5, data.mean(0) + q975 * sigma / n ** 0.5, \n"
      ]
    },
    {
      "cell_type": "code",
      "execution_count": null,
      "id": "aeae3f39",
      "metadata": {},
      "outputs": [],
      "source": [
        "az.summary(trace)"
      ]
    },
    {
      "cell_type": "code",
      "execution_count": null,
      "id": "f8657c24",
      "metadata": {},
      "outputs": [],
      "source": []
    },
    {
      "cell_type": "markdown",
      "id": "fee20664",
      "metadata": {},
      "source": [
        "#### Question 6: On reprend à présent une loi a priori Uniforme([0, 5]). Déterminez des HDI de niveau 95% pour chaque $\\lambda_i$. Comment se comparent-ils aux intervalles de confiance fréquentistes ?"
      ]
    },
    {
      "cell_type": "code",
      "execution_count": null,
      "id": "af6baadd",
      "metadata": {},
      "outputs": [],
      "source": [
        "data = np.array([[4, 0, 0],\n",
        "                [0, 2, 1],\n",
        "                [2, 2, 0],\n",
        "                [1, 3, 0],\n",
        "                [0, 0, 1]])\n",
        "\n",
        "# donnéees de 3 conducteurs\n",
        "\n",
        "n_drivers = data.shape[1]\n",
        "\n",
        "a = 4\n",
        "b = 2\n",
        "with pm.Model() as model:\n",
        "    lambda_ = pm.Uniform(\"lambda\", 0, 5, shape=n_drivers) # non observée, on précise le nombre de lambda\n",
        "    # le shape des données par défaut est n_observation x n_features, pymc associe chaque lambda_i a une colonne de data\n",
        "    N_obs = pm.Poisson(\"N_obs\", mu=lambda_, observed=data, ) # observée\n",
        "    trace = pm.sample(1000) # on simule une chaine MCMC de la loi a posteriori\n"
      ]
    },
    {
      "cell_type": "code",
      "execution_count": null,
      "id": "beadb5a6",
      "metadata": {},
      "outputs": [],
      "source": [
        "data = np.array([[4, 0, 0],\n",
        "                [0, 2, 1],\n",
        "                [2, 2, 0],\n",
        "                [1, 3, 0],\n",
        "                [0, 0, 1]])\n",
        "\n",
        "# donnéees de 3 conducteurs\n",
        "\n",
        "n_drivers = data.shape[1]\n",
        "\n",
        "a = 4\n",
        "b = 2\n",
        "with pm.Model() as model_unif:\n",
        "    # lambda_ = pm.Gamma(\"lambda\", a, b, shape=n_drivers) # non observée, on précise le nombre de lambda\n",
        "    lambda_ = pm.Uniform(\"lambda\", 0, 100, shape=n_drivers)\n",
        "    # le shape des données par défaut est n_observation x n_features, pymc associe chaque lambda_i a une colonne de data\n",
        "    N_obs = pm.Poisson(\"N_obs\", mu=lambda_, observed=data, ) # observée\n",
        "    trace_unif = pm.sample(1000) # on simule une chaine MCMC de la loi a posteriori\n"
      ]
    },
    {
      "cell_type": "code",
      "execution_count": null,
      "id": "cd292dd4",
      "metadata": {},
      "outputs": [],
      "source": [
        "az.summary(trace_unif)"
      ]
    },
    {
      "cell_type": "code",
      "execution_count": null,
      "id": "fe1fc4a4",
      "metadata": {},
      "outputs": [],
      "source": [
        "data.mean(0) - q975 * sigma / n ** 0.5, data.mean(0) + q975 * sigma / n ** 0.5, \n"
      ]
    },
    {
      "cell_type": "code",
      "execution_count": null,
      "id": "bc88ed2f",
      "metadata": {},
      "outputs": [],
      "source": []
    }
  ],
  "metadata": {
    "kernelspec": {
      "display_name": "base",
      "language": "python",
      "name": "python3"
    },
    "language_info": {
      "codemirror_mode": {
        "name": "ipython",
        "version": 3
      },
      "file_extension": ".py",
      "mimetype": "text/x-python",
      "name": "python",
      "nbconvert_exporter": "python",
      "pygments_lexer": "ipython3",
      "version": "3.12.2"
    }
  },
  "nbformat": 4,
  "nbformat_minor": 5
}
